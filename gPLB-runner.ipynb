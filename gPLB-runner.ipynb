{
 "cells": [
  {
   "cell_type": "markdown",
   "metadata": {},
   "source": [
    "# (Generalized) Pattern Lattice Builder (PLB) runner\n",
    "\n",
    "developed by Kow Kuroda (kow.kuroda@gmail.com)\n",
    "\n",
    "Creation\n",
    "- 2024/10/18\n",
    "\n",
    "Modifications\n",
    "- added compatibility with package format (2024/10/20)\n",
    "- implemented automatic figure sizing (2024/10/22)\n",
    "- implemented robust z-score (2024/10/23)\n",
    "- implemetend multiprocess-based speeding up at PatternLattice.merge_lattices()\n",
    "- implemented content tracking (2024/10/31)\n",
    "- added upper-bound to z-score-based node pruning (2024/11/01)\n",
    "- renamed to gPLB-runner-on-bare-items.ipynb (2025/09/17)\n",
    "- added handling of more_generalized, tracing (2025/10/09)\n",
    "- added handling of layered segmentation (2025/10/28)"
   ]
  },
  {
   "cell_type": "code",
   "execution_count": null,
   "metadata": {},
   "outputs": [],
   "source": [
    "## imports\n",
    "import gPLB as plb\n",
    "\n",
    "## The following needs to be True only for debugging/development.\n",
    "re_import_module = True\n",
    "if re_import_module:\n",
    "    import importlib\n",
    "    importlib.reload (plb)"
   ]
  },
  {
   "cell_type": "code",
   "execution_count": null,
   "metadata": {},
   "outputs": [],
   "source": [
    "## inspect plb.py\n",
    "import pprint as pp\n",
    "content_check = False\n",
    "if content_check:\n",
    "    pp.pprint(dir(plb))"
   ]
  },
  {
   "cell_type": "code",
   "execution_count": null,
   "metadata": {},
   "outputs": [],
   "source": [
    "## Parameters\n",
    "## execution verbosity\n",
    "verbose     = True\n",
    "\n",
    "## settings for CJK font display\n",
    "## N.B. phonetic symbols are likely to be incompatible with CJK-ready font\n",
    "use_multibyte_chars = True\n",
    "\n",
    "## internal variables\n",
    "comment_escapes  = ['#', '%']\n",
    "field_seps      = r\",;\"\n",
    "sep2_is_suppressive = True # if True, only \";\" is used and \",\" is ignored\n",
    "\n",
    "## size filtering on input\n",
    "size_filtering  = False\n",
    "max_size        = 5\n",
    "\n",
    "## parameters for PLB\n",
    "gap_marks      = [ \"_\", \"…\" ]\n",
    "gap_mark       = gap_marks[0]\n",
    "tracer         = \"~\"\n",
    "\n",
    "## if Generalized Pattern Lattice is used nor not\n",
    "generalities = [ 0, 1, 2 ]\n",
    "generality    = generalities[2]\n",
    "print (f\"Generality level: {generality}\")\n",
    "\n",
    "## if instantiation check is reflexive\n",
    "reflexive        = True # Don't change this setting unless you know what you are doing.\n",
    "\n",
    "## if node pooling is reductive\n",
    "reductive       = True # Don't change this setting unless you know what you are doing.\n",
    "\n",
    "## productivity metric\n",
    "p_metrics  = ['rank', 'gap_size']\n",
    "p_metric   = p_metrics[0]\n",
    "\n",
    "## if robust Z-score is used instead of normal Z-score\n",
    "use_robust_zscore   = True\n",
    "\n",
    "## select the bases of z-scores: link sources or link targets\n",
    "zscores_from_targets = False\n",
    "\n",
    "### settings for drawing\n",
    "## draw individual lattices\n",
    "draw_inline                = True # whether to draw inline in Jupyter Notebook\n",
    "auto_figsizing             = True\n",
    "draw_individual_lattices   = True\n",
    "draw_sample_lattices_only  = True\n",
    "sample_lattice_n           = 3\n",
    "\n",
    "## full display for merged pattern lattice\n",
    "draw_full_version_for_merged = False"
   ]
  },
  {
   "cell_type": "code",
   "execution_count": null,
   "metadata": {},
   "outputs": [],
   "source": [
    "## graph layout selection\n",
    "graph_layouts = [   'Multi_partite', # 0\n",
    "                    'Graphviz', # 1\n",
    "                    'ARF', # 2\n",
    "                    'Fruchterman_Reingold', # 3\n",
    "                    'Kamada_Kawai', # 4\n",
    "                    'Spring', # 5\n",
    "                    'Circular', # 6\n",
    "                    'Shell', # 7\n",
    "                    'Planar', # 8 [often fails to work]\n",
    "                    # 'Breadth-First Search', # fails work\n",
    "                 ]\n",
    "#\n",
    "graph_layout = graph_layouts[0]\n",
    "print(f\"graph_layout: {graph_layout}\")\n",
    "\n",
    "MPG_keys = ['gap_size', 'rank']\n",
    "MPG_key = MPG_keys[0]\n",
    "print(f\"MPG_key: {MPG_key}\")"
   ]
  },
  {
   "cell_type": "code",
   "execution_count": null,
   "metadata": {},
   "outputs": [],
   "source": [
    "## set up font\n",
    "import matplotlib\n",
    "from matplotlib import font_manager as Font_manager\n",
    "\n",
    "if use_multibyte_chars:\n",
    "    ## select font\n",
    "    multibyte_font_names = [    \"IPAexGothic\",  # 0 Multi-platform font\n",
    "                                \"Hiragino sans\" # 1 Mac only\n",
    "                            ]\n",
    "    multibyte_font_name  = multibyte_font_names[0]\n",
    "    ## tell where target fonts are\n",
    "    system_font_dir = \"/System/Library/Fonts/\"\n",
    "    user_font_dir = \"/Library/Fonts/\"\n",
    "    # use the version installed via TeXLive\n",
    "    user_font_dir2 = \"/usr/local/texlive/2013/texmf-dist/fonts/truetype/public/ipaex/\"\n",
    "    if multibyte_font_name == \"IPAexGothic\":\n",
    "        try:\n",
    "            Font_manager.fontManager.addfont(f\"{user_font_dir}ipaexg.ttf\")\n",
    "        except FileNotFoundError:\n",
    "            Font_manager.fontManager.addfont(f\"{user_font_dir2}ipaexg.ttf\")\n",
    "    elif multibyte_font_name == \"Hiragino sans\":\n",
    "        Font_manager.fontManager.addfont(f\"{system_font_dir}ヒラギノ角ゴシック W0.ttc\")\n",
    "    ## check result\n",
    "    matplotlib.rc('font', family = multibyte_font_name)\n",
    "else:\n",
    "    multibyte_font_name = None\n",
    "    matplotlib.rcParams['font.family'] = \"Sans-serif\"\n",
    "##\n",
    "print(f\"multibyte_font_name: {multibyte_font_name}\")\n",
    "print(f\"matplotlib.rcParams['font.family']: {matplotlib.rcParams['font.family']}\")    "
   ]
  },
  {
   "cell_type": "markdown",
   "metadata": {},
   "source": [
    "# Preparation"
   ]
  },
  {
   "cell_type": "code",
   "execution_count": null,
   "metadata": {},
   "outputs": [],
   "source": [
    "## select target file\n",
    "data_dir = \"data1\"\n",
    "data_names = [  'plb-sample0', 'plb-sample1', 'plb-sample2',\n",
    "                'plb-inteY-max9', 'plb-inteY-max11',\n",
    "                'plb-utau-naku-sinu', 'plb-utau-naku-sinu-commented',\n",
    "                'plb-XiY-max7', 'plb-XiY-max9', 'plb-XiY-wiper2-phonetic', 'plb-XiY-wiper2b', 'plb-XiY-wiper3-dual','plb-XiY-wiper5b-dual'\n",
    "            ]\n",
    "data_name = data_names[0]\n",
    "data_file = f\"{data_dir}/{data_name}.csv\"\n",
    "print(f\"data_file: {data_file}\")"
   ]
  },
  {
   "cell_type": "code",
   "execution_count": null,
   "metadata": {},
   "outputs": [],
   "source": [
    "## single file\n",
    "#data_file = \"/Users/kowk/Dropbox/Research/FOCAL/New Introduction/sources/plb-sore-ga-kaji-no-geNiN.csv\""
   ]
  },
  {
   "cell_type": "code",
   "execution_count": null,
   "metadata": {},
   "outputs": [],
   "source": [
    "## reading data from source\n",
    "print(f\"read data from: {data_file}\")\n",
    "with open(data_file, encoding = \"utf-8\") as f:\n",
    "    lines = [ line.strip() for line in f.readlines() if len(line.strip()) > 0 ]\n",
    "print(lines)"
   ]
  },
  {
   "cell_type": "code",
   "execution_count": null,
   "metadata": {},
   "outputs": [],
   "source": [
    "lines = [ plb.strip_comment(line, comment_escapes) for line in lines ]\n",
    "print(lines)"
   ]
  },
  {
   "cell_type": "code",
   "execution_count": null,
   "metadata": {},
   "outputs": [],
   "source": [
    "## layered segmentation of lines\n",
    "data = [ plb.segment_with_levels(line, seps = field_seps, sep2_is_suppressive = sep2_is_suppressive) for line in lines if len(line) ]"
   ]
  },
  {
   "cell_type": "code",
   "execution_count": null,
   "metadata": {},
   "outputs": [],
   "source": [
    "import pprint as pp\n",
    "pp.pprint(data)"
   ]
  },
  {
   "cell_type": "markdown",
   "metadata": {},
   "source": [
    "# Process individual pattern lattices"
   ]
  },
  {
   "cell_type": "code",
   "execution_count": null,
   "metadata": {},
   "outputs": [],
   "source": [
    "## size filter\n",
    "if size_filtering and not max_size is None:\n",
    "    data = [ x for x in data if len(x) <= max_size ]"
   ]
  },
  {
   "cell_type": "code",
   "execution_count": null,
   "metadata": {},
   "outputs": [],
   "source": [
    "## sampling\n",
    "sampling      = True\n",
    "sampling_rate = 0.3\n",
    "if sampling and len(data) > 10:\n",
    "      import random\n",
    "      data = random.sample(data, round(len(data) * sampling_rate))\n",
    "##\n",
    "print(f\"sampled {len(data)} inputs\")\n",
    "pp.pprint(data)"
   ]
  },
  {
   "cell_type": "code",
   "execution_count": null,
   "metadata": {},
   "outputs": [],
   "source": [
    "## build pattern lattices from data\n",
    "Lx = [ ]\n",
    "for item in data:\n",
    "    pat    = plb.Pattern(item, gap_mark, tracer)\n",
    "    patlat = plb.PatternLattice(pat, generality = generality, reflexive = reflexive, reductive = reductive)\n",
    "    if verbose:\n",
    "        print(patlat)\n",
    "    Lx.append(patlat)\n",
    "print(f\"Lx contains {len(Lx)} lattices\")"
   ]
  },
  {
   "cell_type": "code",
   "execution_count": null,
   "metadata": {},
   "outputs": [],
   "source": [
    "## selection of graph layout\n",
    "layouts = ['Multi_partite', 'Graphviz', 'ARF', 'Fruchterman_Reingold', 'Kamada_Kawai', 'Spring', 'Circular', 'Shell', 'Planar']\n",
    "layout = layouts[0]\n",
    "print(f\"layout: {layout}\")"
   ]
  },
  {
   "cell_type": "code",
   "execution_count": null,
   "metadata": {},
   "outputs": [],
   "source": [
    "## effective only Multi-partite is used\n",
    "MPG_keys = ['gap_size', 'rank', 'size']\n",
    "MPG_key = MPG_keys[0]\n",
    "print(f\"MPG_key: {MPG_key}\")"
   ]
  },
  {
   "cell_type": "code",
   "execution_count": null,
   "metadata": {},
   "outputs": [],
   "source": [
    "## draw pattern lattices individually\n",
    "if draw_individual_lattices:\n",
    "    if draw_sample_lattices_only and len(Lx) > 1:\n",
    "        Ly = random.sample(Lx, sample_lattice_n)\n",
    "        for patlat in Ly:\n",
    "            patlat.draw_lattice (layout, MPG_key, draw_lattice = True, draw_inline = draw_inline, auto_figsizing = False, generality = generality, zscores_from_targets = zscores_from_targets, graphics_backend = None, font_name = multibyte_font_name)\n",
    "    else:\n",
    "        for patlat in Lx:\n",
    "            patlat.draw_lattice (layout, MPG_key, draw_lattice = True, draw_inline = draw_inline, auto_figsizing = True, generality = generality, zscores_from_targets = zscores_from_targets, graphics_backend = None, font_name = multibyte_font_name)"
   ]
  },
  {
   "cell_type": "code",
   "execution_count": null,
   "metadata": {},
   "outputs": [],
   "source": [
    "#raise \"Stop execution\""
   ]
  },
  {
   "cell_type": "markdown",
   "metadata": {},
   "source": [
    "# Process merged pattern lattice"
   ]
  },
  {
   "cell_type": "code",
   "execution_count": null,
   "metadata": {},
   "outputs": [],
   "source": [
    "## merge pattern lattices\n",
    "gen_links_internally = True\n",
    "import functools\n",
    "M = functools.reduce (lambda La, Lb: La.merge_with (Lb, gen_links_internally = gen_links_internally, generality = generality, reflexive = reflexive, reductive = reductive, use_mp = True, check = False), Lx)"
   ]
  },
  {
   "cell_type": "code",
   "execution_count": null,
   "metadata": {},
   "outputs": [],
   "source": [
    "if gen_links_internally:\n",
    "    print(M.links)\n",
    "    print(f\"M.links has {len(M.links)} links\" )"
   ]
  },
  {
   "cell_type": "code",
   "execution_count": null,
   "metadata": {},
   "outputs": [],
   "source": [
    "## generate links: the following process was isolated for memory conservation\n",
    "if not gen_links_internally and len(M.links) == 0:\n",
    "    M.update_links (p_metric, reflexive = reflexive, check = False)"
   ]
  },
  {
   "cell_type": "code",
   "execution_count": null,
   "metadata": {},
   "outputs": [],
   "source": [
    "## calculate z-scores from link sources\n",
    "plb.gen_zscores_from_sources_by (p_metric, M, gap_mark = gap_mark, tracer = tracer, use_robust_zscore = True)"
   ]
  },
  {
   "cell_type": "code",
   "execution_count": null,
   "metadata": {},
   "outputs": [],
   "source": [
    "## check robust z-score distribution\n",
    "import matplotlib.pyplot as plt\n",
    "plt.hist(M.robust_zscores_from_sources.values(), bins = 10)\n",
    "plt.title(f\"Distribution of robust z-scores for out-going link counts\")\n",
    "plt.show()"
   ]
  },
  {
   "cell_type": "code",
   "execution_count": null,
   "metadata": {},
   "outputs": [],
   "source": [
    "## calculate z-scores from link sources\n",
    "plb.gen_zscores_from_sources_by(p_metric, M, gap_mark = gap_mark, tracer = tracer, use_robust_zscore = False)"
   ]
  },
  {
   "cell_type": "code",
   "execution_count": null,
   "metadata": {},
   "outputs": [],
   "source": [
    "## check normal z-score distribution\n",
    "import matplotlib.pyplot as plt\n",
    "plt.hist(M.zscores_from_sources.values(), bins = 10)\n",
    "plt.title(f\"Distribution of normal z-scores for out-going link counts\")\n",
    "plt.show()"
   ]
  },
  {
   "cell_type": "code",
   "execution_count": null,
   "metadata": {},
   "outputs": [],
   "source": [
    "## calculate z-scores from link targets\n",
    "plb.gen_zscores_from_targets_by (p_metric, M, gap_mark = gap_mark, tracer = tracer, use_robust_zscore = True)"
   ]
  },
  {
   "cell_type": "code",
   "execution_count": null,
   "metadata": {},
   "outputs": [],
   "source": [
    "## check z-score distribution\n",
    "import matplotlib.pyplot as plt\n",
    "plt.hist(M.robust_zscores_from_targets.values(), bins = 10)\n",
    "plt.title(f\"Distribution of robust z-scores for in-coming link counts\")\n",
    "plt.show()"
   ]
  },
  {
   "cell_type": "code",
   "execution_count": null,
   "metadata": {},
   "outputs": [],
   "source": [
    "## calculate z-scores from link targets\n",
    "plb.gen_zscores_from_targets_by(p_metric, M, gap_mark = gap_mark, tracer = tracer, use_robust_zscore = False)"
   ]
  },
  {
   "cell_type": "code",
   "execution_count": null,
   "metadata": {},
   "outputs": [],
   "source": [
    "## check z-score distribution\n",
    "import matplotlib.pyplot as plt\n",
    "plt.hist(M.zscores_from_targets.values(), bins = 10)\n",
    "plt.title(f\"Distribution of normal z-scores for in-coming link counts\")\n",
    "plt.show()"
   ]
  },
  {
   "cell_type": "code",
   "execution_count": null,
   "metadata": {},
   "outputs": [],
   "source": [
    "## select z-score base\n",
    "if zscores_from_targets:\n",
    "    if use_robust_zscore:\n",
    "        Link_bases = M.target_robust_zscores\n",
    "        print(f\"robust z-scores are obtained from link_targets\")\n",
    "    else:\n",
    "        Link_bases = M.target_zscores\n",
    "        print(f\"z-scores are obtained from link_targets\")\n",
    "else:\n",
    "    if use_robust_zscore:\n",
    "        Link_bases = M.source_robust_zscores\n",
    "        print(f\"robust zscores are obtained from link_sources\")\n",
    "    else:\n",
    "        Link_bases = M.source_zscores\n",
    "        print(f\"zscores are obtained from link_sources\")"
   ]
  },
  {
   "cell_type": "code",
   "execution_count": null,
   "metadata": {},
   "outputs": [],
   "source": [
    "## check result\n",
    "i = 0\n",
    "for key, value in Link_bases.items():\n",
    "    i += 1\n",
    "    print(f\"node {i:3d} {key} has z-score: {value: .4f}\")"
   ]
  },
  {
   "cell_type": "code",
   "execution_count": null,
   "metadata": {},
   "outputs": [],
   "source": [
    "## draw a pruned diagram from the merged lattice\n",
    "graph_layouts = [   'Multi_partite', # 0\n",
    "                    'Graphviz', # 1\n",
    "                    'ARF', # 2\n",
    "                    'Fruchterman_Reingold', # 3\n",
    "                    'Kamada_Kawai', # 4\n",
    "                    'Spring', # 5\n",
    "                    'Shell', # 6\n",
    "                    'Spectral', # 7\n",
    "                    'Circular', # 8\n",
    "                    'Planar' # 9 # often fails\n",
    "                 ]\n",
    "##\n",
    "layout             = graph_layouts[0]\n",
    "scale_factor       = 3\n",
    "zscore_lowerbound  = -0.0\n",
    "zscore_upperbound  = None"
   ]
  },
  {
   "cell_type": "code",
   "execution_count": null,
   "metadata": {},
   "outputs": [],
   "source": [
    "for layout in graph_layouts:\n",
    "   M.draw_lattice (layout, MPG_key, draw_lattice = False, draw_inline = draw_inline, generality = generality, zscores_from_targets = zscores_from_targets, auto_figsizing = False, label_sample_n = 4, zscore_lb = zscore_lowerbound, zscore_ub = zscore_upperbound, scale_factor = scale_factor, graphics_backend = 'gt', font_name = multibyte_font_name, check = False)"
   ]
  }
 ],
 "metadata": {
  "kernelspec": {
   "display_name": "py3.12",
   "language": "python",
   "name": "python3"
  },
  "language_info": {
   "codemirror_mode": {
    "name": "ipython",
    "version": 3
   },
   "file_extension": ".py",
   "mimetype": "text/x-python",
   "name": "python",
   "nbconvert_exporter": "python",
   "pygments_lexer": "ipython3",
   "version": "3.12.11"
  }
 },
 "nbformat": 4,
 "nbformat_minor": 4
}
