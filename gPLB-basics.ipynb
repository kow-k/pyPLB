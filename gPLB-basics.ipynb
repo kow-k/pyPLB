{
 "cells": [
  {
   "cell_type": "markdown",
   "metadata": {},
   "source": [
    "# Basics of gPLB\n",
    "\n",
    "by Kow Kuroda\n",
    "\n",
    "This document explains how to use gPLB briefly.\n",
    "\n",
    "Modified on 2025/11/01"
   ]
  },
  {
   "cell_type": "code",
   "execution_count": null,
   "metadata": {},
   "outputs": [],
   "source": [
    "## Parameters for Pattern Lattice Builder\n",
    "verbose     = True\n",
    "\n",
    "## Preparation for multiprocess\n",
    "use_mp       = True\n",
    "if use_mp:\n",
    "    import os\n",
    "    n_cores = max(1, round(os.cpu_count()/2) + 1)\n",
    "else:\n",
    "    n_cores = 1\n",
    "print(f\"n_cores: {n_cores}\")\n",
    "\n",
    "## set font for Japanese character display\n",
    "## This needs to be True if you have multibyte characters in data\n",
    "use_multibyte_chars = False\n",
    "print(f\"use_multibyte_chars: {use_multibyte_chars}\")"
   ]
  },
  {
   "cell_type": "code",
   "execution_count": null,
   "metadata": {},
   "outputs": [],
   "source": [
    "## leaders of comment in data\n",
    "comment_escapes  = [ '#', '%' ]"
   ]
  },
  {
   "cell_type": "code",
   "execution_count": null,
   "metadata": {},
   "outputs": [],
   "source": [
    "## select target file\n",
    "from pathlib import Path\n",
    "wd = Path(\"./data3-morpho\")\n",
    "target_files = list(wd.glob('*.txt')) + list(wd.glob('*.csv'))\n",
    "import pprint as pp\n",
    "pp.pprint(f\"target files: {target_files}\")"
   ]
  },
  {
   "cell_type": "code",
   "execution_count": null,
   "metadata": {},
   "outputs": [],
   "source": [
    "## select one target file\n",
    "target_file  = target_files[-1]\n",
    "print(f\"target file: {target_file}\")"
   ]
  },
  {
   "cell_type": "code",
   "execution_count": null,
   "metadata": {},
   "outputs": [],
   "source": [
    "## load data\n",
    "with open(target_file, 'r') as f:\n",
    "    lines = [ line.strip() for line in f.readlines() if len(line) > 0 ]\n",
    "print(lines)"
   ]
  },
  {
   "cell_type": "code",
   "execution_count": null,
   "metadata": {},
   "outputs": [],
   "source": [
    "## import gPLB\n",
    "import gPLB as plb"
   ]
  },
  {
   "cell_type": "code",
   "execution_count": null,
   "metadata": {},
   "outputs": [],
   "source": [
    "## strip comments\n",
    "lines = [ plb.strip_comment(line, comment_escapes) for line in lines ]\n",
    "lines"
   ]
  },
  {
   "cell_type": "code",
   "execution_count": null,
   "metadata": {},
   "outputs": [],
   "source": [
    "## lowercase\n",
    "use_lowercase = True\n",
    "if use_lowercase:\n",
    "    lines = [ line.lower() for line in lines ]\n",
    "lines"
   ]
  },
  {
   "cell_type": "code",
   "execution_count": null,
   "metadata": {},
   "outputs": [],
   "source": [
    "## filter lines by regex if necessary\n",
    "pattern_filtering = False\n",
    "filter_pattern = r'.*g.*'\n",
    "if pattern_filtering:\n",
    "    import re\n",
    "    filtered_lines = [ line for line in lines if re.match(filter_pattern, line) ]\n",
    "else:\n",
    "    filtered_lines = lines\n",
    "print(f\"filtered_lines has {len(filtered_lines)} entries\")\n",
    "print(f\"filtered_lines: {filtered_lines}\")"
   ]
  },
  {
   "cell_type": "code",
   "execution_count": null,
   "metadata": {},
   "outputs": [],
   "source": [
    "### segmentationo\n",
    "## set field separator\n",
    "if str(target_file).endswith(\".csv\"):\n",
    "    field_seps = r\",;\"\n",
    "else:\n",
    "    field_seps = r\"\"\n",
    "print(f\"field_seps: '{field_seps}'\")\n",
    "\n",
    "## set phrase segmentation parameters\n",
    "use_larger_segments = True\n",
    "if use_larger_segments:\n",
    "    sep2_is_suppressive = True\n",
    "else:\n",
    "    sep2_is_suppressive = False\n",
    "print(f\"sep2_is_suppressive: {sep2_is_suppressive}\")"
   ]
  },
  {
   "cell_type": "code",
   "execution_count": null,
   "metadata": {},
   "outputs": [],
   "source": [
    "## split line into fields\n",
    "import gPLB as plb\n",
    "data = [ plb.segment_with_levels(line, seps = field_seps, sep2_is_suppressive = sep2_is_suppressive, split_hyphenation = False, uncapitalize = False, normalize = True) for line in filtered_lines ]\n",
    "pp.pprint(f\"data: {data}\")"
   ]
  },
  {
   "cell_type": "code",
   "execution_count": null,
   "metadata": {},
   "outputs": [],
   "source": [
    "## filter lines by length\n",
    "size_filtering = True\n",
    "min_length =  2\n",
    "max_length =  4\n",
    "if size_filtering:\n",
    "    data = [ item for item in data if min_length <= len(item) and len(item) <= max_length ]\n",
    "else:\n",
    "    data = data\n",
    "print(f\"data has {len(data)} entries\")\n",
    "\n",
    "import pprint as pp\n",
    "pp.pprint(data)"
   ]
  },
  {
   "cell_type": "code",
   "execution_count": null,
   "metadata": {},
   "outputs": [],
   "source": [
    "## get graph_layout parameters\n",
    "n_items    = len(data)\n",
    "max_n_segs = max(map(len, data))\n",
    "print(f\"max_n_segs: {max_n_segs}, n_items: {n_items}\")"
   ]
  },
  {
   "cell_type": "code",
   "execution_count": null,
   "metadata": {},
   "outputs": [],
   "source": [
    "## install required packages\n",
    "#!conda install matplotlib multiprocess networkx -y"
   ]
  },
  {
   "cell_type": "code",
   "execution_count": null,
   "metadata": {},
   "outputs": [],
   "source": [
    "## parameters for PLB\n",
    "gap_marks      = [ \"…\", \"_\" ]\n",
    "gap_mark       = gap_marks[0]\n",
    "tracer         = \"~\"\n",
    "\n",
    "## if instantiation check is reflexive\n",
    "reflexive      = True\n",
    "\n",
    "## if node pooling is reductive\n",
    "reductive      = True\n",
    "\n",
    "##\n",
    "p_metrics = ['rank', 'gap_size', 'size']\n",
    "p_metric = p_metrics[0]\n",
    "\n",
    "## if robust Z-score is used instead of normal Z-score\n",
    "use_robust_zscore   = True\n",
    "\n",
    "## select the bases of z-scores: link sources or link targets\n",
    "zscores_from_targets = False"
   ]
  },
  {
   "cell_type": "code",
   "execution_count": null,
   "metadata": {},
   "outputs": [],
   "source": [
    "## Settings for font\n",
    "## Windows will require other configuration\n",
    "def setup_font(system_font_dir: str = \"/System/Library/Fonts/\", # Mac only \n",
    "        user_font_dir: str = \"/Library/Fonts/\", # Mac only\n",
    "        # use the version installed via TeXLive\n",
    "        user_font_dir2: str = \"/usr/local/texlive/2013/texmf-dist/fonts/truetype/public/ipaex/\"\n",
    "        ):\n",
    "    import matplotlib\n",
    "    from matplotlib import font_manager as Font_manager\n",
    "    if use_multibyte_chars:\n",
    "        ## select font\n",
    "        multibyte_font_names = [    \"IPAexGothic\",  # 0 Multi-platform font\n",
    "                                    \"Hiragino sans\" # 1 Mac only\n",
    "                                ]\n",
    "        multibyte_font_name  = multibyte_font_names[0]\n",
    "        ## tell where target fonts are\n",
    "        if multibyte_font_name == \"IPAexGothic\":\n",
    "            try:\n",
    "                Font_manager.fontManager.addfont(f\"{user_font_dir}ipaexg.ttf\")\n",
    "            except FileNotFoundError:\n",
    "                Font_manager.fontManager.addfont(f\"{user_font_dir2}ipaexg.ttf\")\n",
    "        elif multibyte_font_name == \"Hiragino sans\":\n",
    "            Font_manager.fontManager.addfont(f\"{system_font_dir}ヒラギノ角ゴシック W0.ttc\")\n",
    "        ## check result\n",
    "        matplotlib.rc('font', family = multibyte_font_name)\n",
    "    else:\n",
    "        multibyte_font_name = None\n",
    "        matplotlib.rcParams['font.family'] = \"Sans-serif\"\n",
    "    ##\n",
    "    print(f\"multibyte_font_name: {multibyte_font_name}\")\n",
    "    print(f\"matplotlib.rcParams['font.family']: {matplotlib.rcParams['font.family']}\")\n",
    "    ##\n",
    "    return multibyte_font_name"
   ]
  },
  {
   "cell_type": "code",
   "execution_count": null,
   "metadata": {},
   "outputs": [],
   "source": [
    "#!conda install multiprocess networkx seaborn -y"
   ]
  },
  {
   "cell_type": "code",
   "execution_count": null,
   "metadata": {},
   "outputs": [],
   "source": [
    "## build a Pattern object from each source, i.e., list,\n",
    "## build a Pattern Lattice from it, and then gather\n",
    "\n",
    "## collect Pattern Lattices by generality\n",
    "PLs_by_generality = {}\n",
    "\n",
    "## loop over generality levels\n",
    "generalities = [0,1,2,3]\n",
    "for g in generalities:\n",
    "    PLs = [ ]\n",
    "    for item in data:\n",
    "        ## build a Patter for each item\n",
    "        pat    = plb.Pattern(item, gap_mark, tracer)\n",
    "        patlat = plb.PatternLattice(pat, reflexive = reflexive, generality = g)\n",
    "        if verbose:\n",
    "            print(patlat)\n",
    "        PLs.append(patlat)\n",
    "    PLs_by_generality[g] = PLs"
   ]
  },
  {
   "cell_type": "code",
   "execution_count": null,
   "metadata": {},
   "outputs": [],
   "source": [
    "## Merge individual PLs into a single PL and calculate z-scores\n",
    "MPLs_by_generality = {}\n",
    "for g, PLs in PLs_by_generality.items():\n",
    "    ## merging pattern lattices into one\n",
    "    print(f\"Merging PLs into a single PL at generality {g}...\")\n",
    "    MPL = plb.merge_pattern_lattices(PLs, generality = g, gen_links_internally = True, use_mp = use_mp, reflexive = True, reductive = True, check = False)\n",
    "    ## z-sccores\n",
    "    print(f\"Calculating z-scores...\")\n",
    "    plb.gen_zscores_from_sources_by (p_metric, MPL, gap_mark = gap_mark, tracer = tracer, use_robust_zscore = use_robust_zscore, check = False)\n",
    "    plb.gen_zscores_from_targets_by (p_metric, MPL, gap_mark = gap_mark, tracer = tracer, use_robust_zscore = use_robust_zscore, check = False)\n",
    "    MPLs_by_generality[g] = MPL\n",
    "print(\"Done\")"
   ]
  },
  {
   "cell_type": "code",
   "execution_count": null,
   "metadata": {},
   "outputs": [],
   "source": [
    "## print forms\n",
    "print_forms = True\n",
    "seg_joint = \", \"\n",
    "for i, MPL in MPLs_by_generality.items():\n",
    "    print(f\"g{i}MPL: {MPL}\")\n",
    "    if print_forms:\n",
    "        print(f\"Patterns (= skippy n-grams) in g{i}MPL\")\n",
    "        for j, node in enumerate(MPL.nodes):\n",
    "            print(f\"g{i}MPL.node{j:03d}: {seg_joint.join(node.get_form())}\")"
   ]
  },
  {
   "cell_type": "code",
   "execution_count": null,
   "metadata": {
    "vscode": {
     "languageId": "bat"
    }
   },
   "outputs": [],
   "source": [
    "# Visualization"
   ]
  },
  {
   "cell_type": "code",
   "execution_count": null,
   "metadata": {},
   "outputs": [],
   "source": [
    "## graph layout selection\n",
    "graph_layouts = [   'Multi_partite', # 0\n",
    "                    'Graphviz', # 1\n",
    "                    'Fruchterman_Reingold', # 2\n",
    "                    'ARF', # 3\n",
    "                    'Kamada_Kawai', # 4\n",
    "                    'Spectral', # 5\n",
    "                    'Spring', # 6\n",
    "                    'Breadth-First Search', # 7\n",
    "                    'Circular', # 8\n",
    "                    'Shell', # 9\n",
    "                    'Planar', # 10\n",
    "                 ]\n",
    "#\n",
    "graph_layout = graph_layouts[0]\n",
    "print(f\"graph_layout: {graph_layout}\")"
   ]
  },
  {
   "cell_type": "code",
   "execution_count": null,
   "metadata": {},
   "outputs": [],
   "source": [
    "## Set Multi_partite key for node arrangement\n",
    "MPG_keys = ['gap_size', 'rank', 'size']\n",
    "MPG_key  = MPG_keys[0]\n",
    "print(f\"MPG_key: {MPG_key}\")"
   ]
  },
  {
   "cell_type": "code",
   "execution_count": null,
   "metadata": {},
   "outputs": [],
   "source": [
    "#!conda install networkx matplotlib -y "
   ]
  },
  {
   "cell_type": "code",
   "execution_count": null,
   "metadata": {},
   "outputs": [],
   "source": [
    "#!conda install PyQt5 -y # fails\n",
    "#!pip install -U PyQt5\n",
    "#!conda update conda -y"
   ]
  },
  {
   "cell_type": "code",
   "execution_count": null,
   "metadata": {},
   "outputs": [],
   "source": [
    "## Setup font\n",
    "multibyte_font_name = setup_font()"
   ]
  },
  {
   "cell_type": "code",
   "execution_count": null,
   "metadata": {},
   "outputs": [],
   "source": [
    "## Draw MPLs\n",
    "for i, MPL in MPLs_by_generality.items():\n",
    "    print(f\"g{i}PL: {MPL}\")\n",
    "    MPL.draw_lattice (graph_layout, MPG_key, save_lattice = False, draw_inline = True, auto_figsizing = True, input_name = None, generality = i, zscores_from_targets = zscores_from_targets, font_name = multibyte_font_name)"
   ]
  },
  {
   "cell_type": "code",
   "execution_count": null,
   "metadata": {},
   "outputs": [],
   "source": [
    "#!conda install pydot -y"
   ]
  },
  {
   "cell_type": "code",
   "execution_count": null,
   "metadata": {},
   "outputs": [],
   "source": [
    "## Select a Merged Pattern Lattice and draws it in available layouts\n",
    "target_generality = generalities[1]\n",
    "targetMPL = MPLs_by_generality[target_generality]\n",
    "\n",
    "## remove Planar if generalit is not 0\n",
    "if target_generality != 0:\n",
    "    graph_layouts = [ layout for layout in graph_layouts if layout not in ['Planar', 'Breadth-First Search' ] ]\n",
    "print(f\"graph_layouts to be used: {graph_layouts}\")\n",
    "\n",
    "for layout in graph_layouts:\n",
    "    print(f\"graph_layout: {layout}\")\n",
    "    try:\n",
    "        targetMPL.draw_lattice (layout, MPG_key, save_lattice = False, draw_inline = True, generality = target_generality, zscores_from_targets = zscores_from_targets, font_name = multibyte_font_name)\n",
    "    except NetworkXException as e:\n",
    "        print(f\"#NetworkXError: {e}\")"
   ]
  }
 ],
 "metadata": {
  "kernelspec": {
   "display_name": "base",
   "language": "python",
   "name": "python3"
  },
  "language_info": {
   "codemirror_mode": {
    "name": "ipython",
    "version": 3
   },
   "file_extension": ".py",
   "mimetype": "text/x-python",
   "name": "python",
   "nbconvert_exporter": "python",
   "pygments_lexer": "ipython3",
   "version": "3.11.11"
  }
 },
 "nbformat": 4,
 "nbformat_minor": 4
}
