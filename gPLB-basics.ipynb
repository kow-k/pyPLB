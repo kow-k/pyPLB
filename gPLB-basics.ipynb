{
 "cells": [
  {
   "cell_type": "code",
   "execution_count": null,
   "metadata": {},
   "outputs": [],
   "source": [
    "## Parameters for Pattern Lattice Builder\n",
    "verbose     = True\n",
    "\n",
    "## multiprocess\n",
    "use_mp       = True\n",
    "if use_mp:\n",
    "    import os\n",
    "    n_cores = max(1, round(os.cpu_count()/2) + 1)\n",
    "else:\n",
    "    n_cores = 1\n",
    "print(f\"n_cores: {n_cores}\")\n",
    "\n",
    "## set font for Japanese character display\n",
    "use_multibyte_chars = False\n",
    "print(f\"use_multibyte_chars: {use_multibyte_chars}\")"
   ]
  },
  {
   "cell_type": "code",
   "execution_count": null,
   "metadata": {},
   "outputs": [],
   "source": [
    "## select target file\n",
    "from pathlib import Path\n",
    "wd = Path(\"./data3-morphology\")\n",
    "target_files = list(wd.glob('*.txt')) + list(wd.glob('*.csv'))\n",
    "import pprint as pp\n",
    "pp.pprint(f\"target files: {target_files}\")"
   ]
  },
  {
   "cell_type": "code",
   "execution_count": null,
   "metadata": {},
   "outputs": [],
   "source": [
    "## select one target file\n",
    "target_file  = target_files[-1]\n",
    "print(f\"target file: {target_file}\")"
   ]
  },
  {
   "cell_type": "code",
   "execution_count": null,
   "metadata": {},
   "outputs": [],
   "source": [
    "## load data\n",
    "## remove comment lines\n",
    "comment_escapes  = [ '#', '%' ]\n",
    "with open(target_file, 'r') as f:\n",
    "    raw_lines = [ line.strip() for line in f.readlines() if len(line) > 0 and line[0] not in comment_escapes ]\n",
    "\n",
    "## remove inline comments\n",
    "check = True\n",
    "lines = []\n",
    "for line in raw_lines:\n",
    "    body = [ ]\n",
    "    for char in line:\n",
    "        if char in comment_escapes:\n",
    "            break\n",
    "        else:\n",
    "            body.append(char)\n",
    "    t = \"\".join([ x.strip() for x in body ])\n",
    "    lines.append(str(t))\n",
    "print(f\"lines: {lines}\")"
   ]
  },
  {
   "cell_type": "code",
   "execution_count": null,
   "metadata": {},
   "outputs": [],
   "source": [
    "## lowercase\n",
    "lines = [ line.lower() for line in lines ]"
   ]
  },
  {
   "cell_type": "code",
   "execution_count": null,
   "metadata": {},
   "outputs": [],
   "source": [
    "## filter lines by regex\n",
    "pattern_filtering = False\n",
    "filter_pattern = r'.*g.*'\n",
    "if pattern_filtering:\n",
    "    import re\n",
    "    filtered_lines = [ line for line in lines if re.match(filter_pattern, line) ]\n",
    "else:\n",
    "    filtered_lines = lines\n",
    "print(f\"filtered_lines has {len(filtered_lines)} entries\")\n",
    "print(f\"filtered_lines: {filtered_lines}\")"
   ]
  },
  {
   "cell_type": "code",
   "execution_count": null,
   "metadata": {},
   "outputs": [],
   "source": [
    "## set field separator\n",
    "if str(target_file).endswith(\".csv\"):\n",
    "    field_seps = r\",;\"\n",
    "else:\n",
    "    field_seps = r\"\"\n",
    "print(f\"field_seps: '{field_seps}'\")"
   ]
  },
  {
   "cell_type": "code",
   "execution_count": null,
   "metadata": {},
   "outputs": [],
   "source": [
    "## set phrase segmentation parameters\n",
    "use_larger_segments = True\n",
    "if use_larger_segments:\n",
    "    sep2_is_suppressive = True\n",
    "else:\n",
    "    sep2_is_suppressive = False\n",
    "print(f\"sep2_is_suppressive: {sep2_is_suppressive}\")"
   ]
  },
  {
   "cell_type": "code",
   "execution_count": null,
   "metadata": {},
   "outputs": [],
   "source": [
    "filtered_lines"
   ]
  },
  {
   "cell_type": "code",
   "execution_count": null,
   "metadata": {},
   "outputs": [],
   "source": [
    "## split line into fields\n",
    "import gPLB as plb\n",
    "data = [ plb.segment_with_levels(line, seps = field_seps, sep2_is_suppressive = sep2_is_suppressive, split_hyphenation = False, uncapitalize = False, normalize = True) for line in filtered_lines ]\n",
    "pp.pprint(f\"data: {data}\")"
   ]
  },
  {
   "cell_type": "code",
   "execution_count": null,
   "metadata": {},
   "outputs": [],
   "source": [
    "## filter lines by length\n",
    "size_filtering = True\n",
    "min_length =  2\n",
    "max_length =  4\n",
    "if size_filtering:\n",
    "    data = [ item for item in data if min_length <= len(item) and len(item) <= max_length ]\n",
    "else:\n",
    "    data = data\n",
    "print(f\"data has {len(data)} entries\")\n",
    "\n",
    "import pprint as pp\n",
    "pp.pprint(data)"
   ]
  },
  {
   "cell_type": "code",
   "execution_count": null,
   "metadata": {},
   "outputs": [],
   "source": [
    "## get graph_layout parameters\n",
    "n_items    = len(data)\n",
    "max_n_segs = max(map(len, data))\n",
    "print(f\"max_n_segs: {max_n_segs}, n_items: {n_items}\")"
   ]
  },
  {
   "cell_type": "code",
   "execution_count": null,
   "metadata": {},
   "outputs": [],
   "source": [
    "## install required packages\n",
    "#!conda install matplotlib multiprocess networkx -y"
   ]
  },
  {
   "cell_type": "code",
   "execution_count": null,
   "metadata": {},
   "outputs": [],
   "source": [
    "## parameters for PLB\n",
    "gap_marks      = [ \"…\", \"_\" ]\n",
    "gap_mark       = gap_marks[0]\n",
    "tracer         = \"~\"\n",
    "\n",
    "## if instantiation check is reflexive\n",
    "reflexive      = True\n",
    "\n",
    "## if node pooling is reductive\n",
    "reductive      = True\n",
    "\n",
    "##\n",
    "p_metrics = ['rank', 'gap_size', 'size']\n",
    "p_metric = p_metrics[0]\n",
    "\n",
    "## if robust Z-score is used instead of normal Z-score\n",
    "use_robust_zscore   = True\n",
    "\n",
    "## select the bases of z-scores: link sources or link targets\n",
    "zscores_from_targets = False"
   ]
  },
  {
   "cell_type": "code",
   "execution_count": null,
   "metadata": {},
   "outputs": [],
   "source": [
    "## settings for font\n",
    "def setup_font(system_font_dir: str = \"/System/Library/Fonts/\", # Mac only \n",
    "        user_font_dir: str = \"/Library/Fonts/\", # Mac only\n",
    "        # use the version installed via TeXLive\n",
    "        user_font_dir2: str = \"/usr/local/texlive/2013/texmf-dist/fonts/truetype/public/ipaex/\"\n",
    "        ):\n",
    "    import matplotlib\n",
    "    from matplotlib import font_manager as Font_manager\n",
    "    if use_multibyte_chars:\n",
    "        ## select font\n",
    "        multibyte_font_names = [    \"IPAexGothic\",  # 0 Multi-platform font\n",
    "                                    \"Hiragino sans\" # 1 Mac only\n",
    "                                ]\n",
    "        multibyte_font_name  = multibyte_font_names[0]\n",
    "        ## tell where target fonts are\n",
    "        if multibyte_font_name == \"IPAexGothic\":\n",
    "            try:\n",
    "                Font_manager.fontManager.addfont(f\"{user_font_dir}ipaexg.ttf\")\n",
    "            except FileNotFoundError:\n",
    "                Font_manager.fontManager.addfont(f\"{user_font_dir2}ipaexg.ttf\")\n",
    "        elif multibyte_font_name == \"Hiragino sans\":\n",
    "            Font_manager.fontManager.addfont(f\"{system_font_dir}ヒラギノ角ゴシック W0.ttc\")\n",
    "        ## check result\n",
    "        matplotlib.rc('font', family = multibyte_font_name)\n",
    "    else:\n",
    "        multibyte_font_name = None\n",
    "        matplotlib.rcParams['font.family'] = \"Sans-serif\"\n",
    "    ##\n",
    "    print(f\"multibyte_font_name: {multibyte_font_name}\")\n",
    "    print(f\"matplotlib.rcParams['font.family']: {matplotlib.rcParams['font.family']}\")\n",
    "    ##\n",
    "    return multibyte_font_name"
   ]
  },
  {
   "cell_type": "code",
   "execution_count": null,
   "metadata": {},
   "outputs": [],
   "source": [
    "#!conda install multiprocess networkx seaborn -y"
   ]
  },
  {
   "cell_type": "code",
   "execution_count": null,
   "metadata": {},
   "outputs": [],
   "source": [
    "## build pattern lattices from data\n",
    "import gPLB as plb\n",
    "PLs = [ ]\n",
    "for item in data:\n",
    "    ## build a Patter for each item\n",
    "    pat    = plb.Pattern(item, gap_mark, tracer)\n",
    "    ## run through generality levels\n",
    "    for generality in range(0, 3):\n",
    "        patlat = plb.PatternLattice(pat, reflexive = reflexive, generality = generality)\n",
    "        if verbose:\n",
    "            print(patlat)\n",
    "        PLs.append(patlat)"
   ]
  },
  {
   "cell_type": "code",
   "execution_count": null,
   "metadata": {},
   "outputs": [],
   "source": [
    "## print forms\n",
    "print_forms = True\n",
    "seg_joint = \", \"\n",
    "if print_forms:\n",
    "    print(f\"skippy n-grams of the merged lattice\")\n",
    "    for i, patlat in enumerate(PLs):\n",
    "        for j, node in enumerate(patlat.nodes):\n",
    "            print(f\"patlat{i+1:02d}.node{j+1:03d}: {seg_joint.join(node.get_form())}\")"
   ]
  },
  {
   "cell_type": "code",
   "execution_count": null,
   "metadata": {},
   "outputs": [],
   "source": [
    "## graph layout selection\n",
    "graph_layouts = [   'Multi_partite', # 0\n",
    "                    'Graphviz', # 1\n",
    "                    'Fruchterman_Reingold', # 2\n",
    "                    'ARF', # 3\n",
    "                    'Spring', # 4\n",
    "                    'Circular', # 5\n",
    "                    'Shell', # 6\n",
    "                    'Spectral', # 7\n",
    "                    'Kamada_Kawai', # 8\n",
    "                    'Breadth-First Search', # 9\n",
    "                    'Planar', # 10\n",
    "                 ]\n",
    "#\n",
    "graph_layout = graph_layouts[0]\n",
    "print(f\"graph_layout: {graph_layout}\")\n",
    "\n",
    "##\n",
    "MPG_keys = ['gap_size', 'rank']\n",
    "MPG_key  = MPG_keys[0]\n",
    "print(f\"MPG_key: {MPG_key}\")"
   ]
  },
  {
   "cell_type": "code",
   "execution_count": null,
   "metadata": {},
   "outputs": [],
   "source": [
    "#!conda install networkx matplotlib -y "
   ]
  },
  {
   "cell_type": "code",
   "execution_count": null,
   "metadata": {},
   "outputs": [],
   "source": [
    "#!conda install PyQt5 -y # fails\n",
    "#!pip install -U PyQt5\n",
    "#!conda update conda -y"
   ]
  },
  {
   "cell_type": "code",
   "execution_count": null,
   "metadata": {},
   "outputs": [],
   "source": [
    "draw_PL_before_merger = False\n",
    "multibyte_font_name = setup_font()\n",
    "if draw_PL_before_merger:\n",
    "    for PL in PLs:\n",
    "        PL.draw_lattice (graph_layout, MPG_key, save_lattice = False, draw_inline = True, auto_figsizing = True, generality = generality, zscores_from_targets = zscores_from_targets, font_name = multibyte_font_name)"
   ]
  },
  {
   "cell_type": "code",
   "execution_count": null,
   "metadata": {},
   "outputs": [],
   "source": [
    "## merge Patern lattices\n",
    "M = plb.merge_pattern_lattices (PLs, generality = generality, gen_links_internally = True, use_mp = use_mp, reflexive = True, reductive = True, check = False)"
   ]
  },
  {
   "cell_type": "code",
   "execution_count": null,
   "metadata": {},
   "outputs": [],
   "source": [
    "print(f\"##Calculating z-scores ...\")\n",
    "plb.gen_zscores_from_targets_by (p_metric, M, gap_mark = gap_mark, tracer = tracer, use_robust_zscore = use_robust_zscore, check = False)\n",
    "plb.gen_zscores_from_sources_by (p_metric, M, gap_mark = gap_mark, tracer = tracer, use_robust_zscore = use_robust_zscore, check = False)"
   ]
  },
  {
   "cell_type": "code",
   "execution_count": null,
   "metadata": {},
   "outputs": [],
   "source": [
    "#!conda install pydot -y"
   ]
  },
  {
   "cell_type": "code",
   "execution_count": null,
   "metadata": {},
   "outputs": [],
   "source": [
    "## Draw pattern lattice in available layouts\n",
    "for layout in graph_layouts:\n",
    "    print(f\"graph_layout: {layout}\")\n",
    "    try:\n",
    "        M.draw_lattice (layout, MPG_key, save_lattice = False, draw_inline = True, generality = generality, zscores_from_targets = zscores_from_targets, font_name = multibyte_font_name)\n",
    "    except (Error, NetworkXException) as e:\n",
    "        print(f\"#NetworkXError: {e}\")"
   ]
  }
 ],
 "metadata": {
  "kernelspec": {
   "display_name": "py3.12",
   "language": "python",
   "name": "python3"
  },
  "language_info": {
   "codemirror_mode": {
    "name": "ipython",
    "version": 3
   },
   "file_extension": ".py",
   "mimetype": "text/x-python",
   "name": "python",
   "nbconvert_exporter": "python",
   "pygments_lexer": "ipython3",
   "version": "3.12.11"
  }
 },
 "nbformat": 4,
 "nbformat_minor": 4
}
