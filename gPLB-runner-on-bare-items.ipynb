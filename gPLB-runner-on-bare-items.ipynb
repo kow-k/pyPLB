{
 "cells": [
  {
   "cell_type": "markdown",
   "metadata": {},
   "source": [
    "# (Generalized) Pattern Lattice Builder (PLB) runner on bare words\n",
    "\n",
    "developed by Kow Kuroda (kow.kuroda@gmail.com)\n",
    "\n",
    "Creation\n",
    "- 2024/11/01\n",
    "\n",
    "Modifications\n",
    "- 2024/11/02, 11\n",
    "- 2025/09/17 renamed to gPLB-runner-on-bare-items.ipynb;\n",
    "- 2025/10/17 updated for revised version of gPLB with p_metric;"
   ]
  },
  {
   "cell_type": "code",
   "execution_count": null,
   "metadata": {},
   "outputs": [],
   "source": [
    "## imports\n",
    "import gPLB as plb\n",
    "\n",
    "## The following needs to be True only for debugging/development.\n",
    "re_import_module = True\n",
    "if re_import_module:\n",
    "    import importlib\n",
    "    importlib.reload (plb)"
   ]
  },
  {
   "cell_type": "code",
   "execution_count": null,
   "metadata": {},
   "outputs": [],
   "source": [
    "## inspect plb.py\n",
    "import pprint as pp\n",
    "content_check = False\n",
    "if content_check:\n",
    "    pp.pprint(dir(plb))"
   ]
  },
  {
   "cell_type": "code",
   "execution_count": null,
   "metadata": {},
   "outputs": [],
   "source": [
    "## Parameters\n",
    "\n",
    "## internal variables\n",
    "comment_escapes  = ['#', '%']\n",
    "\n",
    "## parameters for PLB\n",
    "gap_marks       = [ \"_\", \"…\" ]\n",
    "gap_mark        = gap_marks[0]\n",
    "tracer          = \"~\"\n",
    "\n",
    "## managemental\n",
    "verbose = True\n",
    "\n",
    "## if use multiprocess module\n",
    "use_mp = True\n",
    "\n",
    "## if Generalized Pattern Lattice is used nor not\n",
    "generalities = [0,1,2,3]\n",
    "generality   = generalities[2]\n",
    "\n",
    "## if instantiation check is reflexive: effective under generalized\n",
    "reflexive       = True\n",
    "\n",
    "## if node pooling is reductive\n",
    "reductive       = True\n",
    "\n",
    "## key\n",
    "p_metrics = ['rank', 'gap_size', 'size']\n",
    "p_metric  = p_metrics[0]\n",
    "\n",
    "## if robust Z-score is used instead of normal Z-score\n",
    "use_robust_zscore   = True\n",
    "\n",
    "## select the bases of z-scores: link sources or link targets\n",
    "zscores_from_targets = False\n",
    "\n",
    "### settings for drawing\n",
    "## draw individual lattices\n",
    "draw_individual_lattices   = False\n",
    "draw_sample_lattices_only  = True\n",
    "sample_lattice_n           = 3\n",
    "\n",
    "## full display for merged pattern lattice\n",
    "draw_full_version_for_merged = False\n",
    "\n",
    "## Graph drawing parameters\n",
    "layout = \"Multi_partite\"\n",
    "\n",
    "## key of Multi-partite Graph (MPG) layout\n",
    "MPG_keys = ['gap_size', 'rank', 'size']\n",
    "MPG_key  = MPG_keys[0]\n",
    "\n",
    "## settings for CJK font display\n",
    "## N.B. phonetic symbols are likely to be incompatible with CJK-ready font\n",
    "use_multibyte_chars = False"
   ]
  },
  {
   "cell_type": "code",
   "execution_count": null,
   "metadata": {},
   "outputs": [],
   "source": [
    "## parameters for data sampling\n",
    "min_len   = 3\n",
    "max_len   = 5\n",
    "sample_n  = 9"
   ]
  },
  {
   "cell_type": "code",
   "execution_count": null,
   "metadata": {},
   "outputs": [],
   "source": [
    "## set up font\n",
    "import matplotlib\n",
    "from matplotlib import font_manager as Font_manager\n",
    "\n",
    "if use_multibyte_chars:\n",
    "    ## select font\n",
    "    multibyte_font_names = [    \"IPAexGothic\",  # 0 Multi-platform font\n",
    "                                \"Hiragino sans\" # 1 Mac only\n",
    "                            ]\n",
    "    multibyte_font_name  = multibyte_font_names[0]\n",
    "    ## tell where target fonts are\n",
    "    system_font_dir = \"/System/Library/Fonts/\"\n",
    "    user_font_dir = \"/Library/Fonts/\"\n",
    "    # use the version installed via TeXLive\n",
    "    user_font_dir2 = \"/usr/local/texlive/2013/texmf-dist/fonts/truetype/public/ipaex/\"\n",
    "    if multibyte_font_name == \"IPAexGothic\":\n",
    "        try:\n",
    "            Font_manager.fontManager.addfont(f\"{user_font_dir}ipaexg.ttf\")\n",
    "        except FileNotFoundError:\n",
    "            Font_manager.fontManager.addfont(f\"{user_font_dir2}ipaexg.ttf\")\n",
    "    elif multibyte_font_name == \"Hiragino sans\":\n",
    "        Font_manager.fontManager.addfont(f\"{system_font_dir}ヒラギノ角ゴシック W0.ttc\")\n",
    "    ## check result\n",
    "    matplotlib.rc('font', family = multibyte_font_name)\n",
    "else:\n",
    "    multibyte_font_name = None\n",
    "    matplotlib.rcParams['font.family'] = \"Sans-serif\"\n",
    "##\n",
    "print(f\"multibyte_font_name: {multibyte_font_name}\")\n",
    "print(f\"matplotlib.rcParams['font.family']: {matplotlib.rcParams['font.family']}\")    "
   ]
  },
  {
   "cell_type": "code",
   "execution_count": null,
   "metadata": {},
   "outputs": [],
   "source": [
    "## graph layout selection\n",
    "graph_layouts = [   'Multi_partite', # 0\n",
    "                    'Graphviz', # 1\n",
    "                    'ARF', # 2\n",
    "                    'Fruchterman_Reingold', # 3\n",
    "                    'Kamada_Kawai', # 4\n",
    "                    'Spring', # 5\n",
    "                    'Planar', # 6\n",
    "                    'Circular', # 7\n",
    "                    'Shell', # 8\n",
    "                    'Planar', # 9 [often fails to work]\n",
    "                    # 'Breadth-First Search', # fails work\n",
    "                 ]\n",
    "#\n",
    "graph_layout = graph_layouts[0]\n",
    "print(f\"graph_layout: {graph_layout}\")"
   ]
  },
  {
   "cell_type": "markdown",
   "metadata": {},
   "source": [
    "# Preparation"
   ]
  },
  {
   "cell_type": "code",
   "execution_count": null,
   "metadata": {},
   "outputs": [],
   "source": [
    "## select target file\n",
    "from pathlib import Path\n",
    "wd = Path(\"./data-raw-words\")\n",
    "data_files = list(wd.glob('*.txt'))\n",
    "data_file  = data_files[0]\n",
    "print(f\"read data from: {data_file}\")"
   ]
  },
  {
   "cell_type": "code",
   "execution_count": null,
   "metadata": {},
   "outputs": [],
   "source": [
    "if str(data_file).endswith(\".csv\"):\n",
    "    field_seps          = r\",;\"\n",
    "    sep2_is_suppressive = True\n",
    "else:\n",
    "    field_seps = \"\"\n",
    "    sep2_is_suppressive = False\n",
    "print(f\"field_seps: '{field_seps}'\")"
   ]
  },
  {
   "cell_type": "code",
   "execution_count": null,
   "metadata": {},
   "outputs": [],
   "source": [
    "## reading data\n",
    "with open(data_file, encoding = \"utf-8\") as file:\n",
    "    lines = [ line.strip() for line in file.readlines() if len(line) > 0 ]\n",
    "\n",
    "## discard comment lines that start with #\n",
    "lines = [ plb.strip_comment(line, comment_escapes) for line in lines ]\n",
    "print(lines)"
   ]
  },
  {
   "cell_type": "code",
   "execution_count": null,
   "metadata": {},
   "outputs": [],
   "source": [
    "## select targets by pattern matching\n",
    "import re\n",
    "selector = r\".*f.*a.*n.*\"\n",
    "filtered_lines = [ w for w in lines if re.match(selector, w) ]\n",
    "filtered_lines"
   ]
  },
  {
   "cell_type": "code",
   "execution_count": null,
   "metadata": {},
   "outputs": [],
   "source": [
    "## filtering data\n",
    "filtered_lines = [ line for line in filtered_lines if len(line) >= min_len and len(line) <= max_len ]\n",
    "filtered_lines"
   ]
  },
  {
   "cell_type": "code",
   "execution_count": null,
   "metadata": {},
   "outputs": [],
   "source": [
    "## sampling\n",
    "import random\n",
    "sampled_lines = random.sample(filtered_lines, sample_n)\n",
    "sampled_lines\n",
    "print(\"sampled lines\")\n",
    "pp.pprint(sampled_lines)"
   ]
  },
  {
   "cell_type": "code",
   "execution_count": null,
   "metadata": {},
   "outputs": [],
   "source": [
    "## convert words into lists\n",
    "import re\n",
    "data = [ [ y for y in re.split(field_seps, x) if len(y) > 0 ] for x in sampled_lines ]\n",
    "\t\t \n",
    "## check result\n",
    "import pprint as pp\n",
    "pp.pprint(data)"
   ]
  },
  {
   "cell_type": "code",
   "execution_count": null,
   "metadata": {},
   "outputs": [],
   "source": [
    "# Process Patter Lattice incrementally\n",
    "lattice_build_is_stepwise = True"
   ]
  },
  {
   "cell_type": "code",
   "execution_count": null,
   "metadata": {},
   "outputs": [],
   "source": [
    "## build pattern lattices from data\n",
    "gen_links_internally = False # Cruciall for memory conservation\n",
    "\n",
    "null_pat = plb.Pattern([], gap_mark, tracer)\n",
    "M = plb.PatternLattice(null_pat, generality = generality, p_metric = p_metric, check = False)\n",
    "for i, item in enumerate(data):\n",
    "\n",
    "    print(f\"##building PatternLattice {i+1} from {item}\")\n",
    "    pat    = plb.Pattern(item, gap_mark, tracer)\n",
    "    patlat = plb.PatternLattice(pat, generality = generality, reflexive = reflexive)\n",
    "    if verbose:\n",
    "        print(patlat)\n",
    "    if draw_individual_lattices:\n",
    "        patlat.draw_lattice (layout, MPG_key, save_lattice = False, draw_inline = True, auto_figsizing = True, generality = generality, zscores_from_targets = zscores_from_targets, font_name = multibyte_font_name)\n",
    "    \n",
    "    ## Merging pattern lattices\n",
    "    print(f\"##merging PatternLattices {i} and {i+1}\")\n",
    "    M = M.merge_with (patlat, gen_links_internally = gen_links_internally, generality = generality, reflexive = reflexive, reductive = reductive, use_mp = use_mp, check = False)\n",
    "    \n",
    "    ## Delete used patlat\n",
    "    patlat = None\n",
    "\n",
    "    print(f\"##finished step {i+1}\")\n",
    "    print(f\"=================================\\n\")"
   ]
  },
  {
   "cell_type": "code",
   "execution_count": null,
   "metadata": {},
   "outputs": [],
   "source": [
    "## The following process was isolated for memory conservation\n",
    "if not gen_links_internally and len(M.links) == 0:\n",
    "    print(f\"##start generating links in delayed manner\")\n",
    "    M.update_links (reflexive = reflexive, check = False)"
   ]
  },
  {
   "cell_type": "code",
   "execution_count": null,
   "metadata": {},
   "outputs": [],
   "source": [
    "print(f\"p_metric: {p_metric}\")"
   ]
  },
  {
   "cell_type": "code",
   "execution_count": null,
   "metadata": {},
   "outputs": [],
   "source": [
    "## Calculate\n",
    "plb.gen_zscores_from_targets_by (p_metric, M, gap_mark = gap_mark, tracer = tracer, use_robust_zscore = use_robust_zscore, check = False)\n",
    "plb.gen_zscores_from_sources_by (p_metric, M, gap_mark = gap_mark, tracer = tracer, use_robust_zscore = use_robust_zscore, check = False)"
   ]
  },
  {
   "cell_type": "code",
   "execution_count": null,
   "metadata": {},
   "outputs": [],
   "source": [
    "## select z-score base\n",
    "print(f\"#zscores_from_targets: {zscores_from_targets}\")\n",
    "if zscores_from_targets:\n",
    "    if use_robust_zscore:\n",
    "        Link_bases = M.robust_zscores_from_targets\n",
    "        print(f\"robust z-scores are obtained from link_targets\")\n",
    "    else:\n",
    "        Link_bases = M.zscores_from_targets\n",
    "        print(f\"normal z-scores are obtained from link_targets\")\n",
    "else:\n",
    "    if use_robust_zscore:\n",
    "        Link_bases = M.robust_zscores_from_sources\n",
    "        print(f\"robust z-scores are obtained from link_sources\")\n",
    "    else:\n",
    "        Link_bases = M.zscores_from_sources\n",
    "        print(f\"normal z-scores are obtained from link_sources\")"
   ]
  },
  {
   "cell_type": "code",
   "execution_count": null,
   "metadata": {},
   "outputs": [],
   "source": [
    "## check result\n",
    "i = 0\n",
    "for key, value in Link_bases.items():\n",
    "    i += 1\n",
    "    print(f\"node {i:3d} {key} has z-score: {value: .4f}\")"
   ]
  },
  {
   "cell_type": "code",
   "execution_count": null,
   "metadata": {},
   "outputs": [],
   "source": [
    "## draw a pruned diagram from the merged lattice\n",
    "graph_layouts = [   'Multi_partite', # 0\n",
    "                    'Graphviz', # 1\n",
    "                    'ARF', # 2\n",
    "                    'Fruchterman_Reingold', # 3\n",
    "                    'Kamada_Kawai', # 4\n",
    "                    'Spring', # 5\n",
    "                    'Shell', # 6\n",
    "                    'Spectral', # 7\n",
    "                    'Circular', # 8\n",
    "                    'Planar' # 9 # often fails\n",
    "                 ]\n",
    "##\n",
    "layout             = graph_layouts[0]\n",
    "scale_factor       = 3\n",
    "zscore_lowerbound  = 0\n",
    "zscore_upperbound  = None"
   ]
  },
  {
   "cell_type": "code",
   "execution_count": null,
   "metadata": {},
   "outputs": [],
   "source": [
    "graph_layouts"
   ]
  },
  {
   "cell_type": "code",
   "execution_count": null,
   "metadata": {},
   "outputs": [
    {
     "ename": "NameError",
     "evalue": "name 'graph_layouts' is not defined",
     "output_type": "error",
     "traceback": [
      "\u001b[31m---------------------------------------------------------------------------\u001b[39m",
      "\u001b[31mNameError\u001b[39m                                 Traceback (most recent call last)",
      "\u001b[36mCell\u001b[39m\u001b[36m \u001b[39m\u001b[32mIn[1]\u001b[39m\u001b[32m, line 3\u001b[39m\n\u001b[32m      1\u001b[39m \u001b[38;5;66;03m## Draw a graph of Pattern Lattice\u001b[39;00m\n\u001b[32m      2\u001b[39m label_sample_n = \u001b[32m7\u001b[39m\n\u001b[32m----> \u001b[39m\u001b[32m3\u001b[39m \u001b[38;5;28;01mfor\u001b[39;00m layout \u001b[38;5;129;01min\u001b[39;00m graph_layouts:\n\u001b[32m      4\u001b[39m    \u001b[38;5;28;01mif\u001b[39;00m layout == \u001b[33m'\u001b[39m\u001b[33mMulti_partite\u001b[39m\u001b[33m'\u001b[39m:\n\u001b[32m      5\u001b[39m       set_figsize_manually = \u001b[38;5;28;01mFalse\u001b[39;00m\n",
      "\u001b[31mNameError\u001b[39m: name 'graph_layouts' is not defined"
     ]
    }
   ],
   "source": [
    "## Draw a graph of Pattern Lattice\n",
    "label_sample_n = 7\n",
    "for layout in graph_layouts:\n",
    "   if layout == 'Multi_partite':\n",
    "      set_figsize_manually = False\n",
    "      if set_figsize_manually:\n",
    "         M.draw_lattice (layout, MPG_key, save_lattice = False, draw_inline = True, auto_figsizing = False, fig_size = (12, 20), generality = generality, p_metric = p_metric, zscores_from_targets = zscores_from_targets, label_sample_n = label_sample_n, label_size = 12, node_size = 30, font_name = multibyte_font_name, zscore_lb = zscore_lowerbound, zscore_ub = zscore_upperbound, scale_factor = scale_factor, check = False)\n",
    "      else:\n",
    "         M.draw_lattice (layout, MPG_key, save_lattice = False, draw_inline = True, auto_figsizing = True, generality = generality, p_metric = p_metric, zscores_from_targets = zscores_from_targets, label_sample_n = label_sample_n, zscore_lb = zscore_lowerbound, zscore_ub = zscore_upperbound, scale_factor = scale_factor, font_name = multibyte_font_name, check = False)\n",
    "   else:\n",
    "      try:\n",
    "         M.draw_lattice (layout, MPG_key, save_lattice = False, draw_inline = True, auto_figsizing = True, generality = generality, p_metric = p_metric, zscores_from_targets = zscores_from_targets, label_sample_n = label_sample_n, zscore_lb = zscore_lowerbound, zscore_ub = zscore_upperbound, scale_factor = scale_factor, font_name = multibyte_font_name, check = False)\n",
    "      except NetworkXException as e:\n",
    "         print(f\"layout {layout} failed: {e}\")"
   ]
  },
  {
   "cell_type": "code",
   "execution_count": null,
   "metadata": {},
   "outputs": [],
   "source": [
    "if lattice_build_is_stepwise:\n",
    "\traise \"StopExecution\""
   ]
  },
  {
   "cell_type": "markdown",
   "metadata": {},
   "source": [
    "# Process individual pattern lattices"
   ]
  },
  {
   "cell_type": "code",
   "execution_count": null,
   "metadata": {},
   "outputs": [],
   "source": [
    "## build pattern lattices from data\n",
    "Lx = [ ]\n",
    "for item in data:\n",
    "    pat    = plb.Pattern(item, gap_mark, tracer)\n",
    "    patlat = plb.PatternLattice(pat, generality, p_metric, reflexive = reflexive)\n",
    "    if verbose:\n",
    "            print(patlat)\n",
    "    Lx.append(patlat)"
   ]
  },
  {
   "cell_type": "code",
   "execution_count": null,
   "metadata": {},
   "outputs": [],
   "source": [
    "## draw pattern lattices individually\n",
    "if draw_individual_lattices:\n",
    "    if draw_sample_lattices_only:\n",
    "        Ly = random.sample(Lx, sample_lattice_n)\n",
    "    else:\n",
    "        Ly = Lx\n",
    "    for patlat in Ly:\n",
    "        patlat.draw_lattice (layout, MPG_key, save_lattice = False, draw_inline = True, auto_figsizing = True, generality = generality, font_name = multibyte_font_name)"
   ]
  },
  {
   "cell_type": "markdown",
   "metadata": {},
   "source": [
    "# Process merged pattern lattice"
   ]
  },
  {
   "cell_type": "code",
   "execution_count": null,
   "metadata": {},
   "outputs": [],
   "source": [
    "## merge pattern lattices\n",
    "import functools\n",
    "gen_links_internally = False # Cruciall for memory conservation\n",
    "M = functools.reduce (lambda La, Lb: La.merge_with (Lb, gen_links_internally = gen_links_internally, generality = generality, reductive = reductive, reflexive = reflexive, use_mp = use_mp, show_steps = True, check = False),\n",
    "                                                        Lx)\n",
    "\n",
    "# The following process was isolated for memory conservation\n",
    "if not gen_links_internally and len(M.links) == 0:\n",
    "    print(f\"##runnning delayed link generation ...\")\n",
    "    M.update_links (reflexive = reflexive, check = False)"
   ]
  },
  {
   "cell_type": "code",
   "execution_count": null,
   "metadata": {},
   "outputs": [],
   "source": [
    "## check robust z-score distribution\n",
    "import matplotlib.pyplot as plt\n",
    "plt.hist(M.robust_source_zscores, bins = 20)\n",
    "plt.title(f\"Distribution of robust z-scores for out-going link counts\")\n",
    "plt.show()"
   ]
  },
  {
   "cell_type": "code",
   "execution_count": null,
   "metadata": {},
   "outputs": [],
   "source": [
    "## check robust z-score distribution\n",
    "import matplotlib.pyplot as plt\n",
    "plt.hist(M.normal_source_zscores, bins = 20)\n",
    "plt.title(f\"Distribution of (unused) z-scores for out-going link counts\")\n",
    "plt.show()"
   ]
  },
  {
   "cell_type": "code",
   "execution_count": null,
   "metadata": {},
   "outputs": [],
   "source": [
    "## check z-score distribution\n",
    "import matplotlib.pyplot as plt\n",
    "plt.hist(M.target_robust_zscores, bins = 20)\n",
    "plt.title(f\"Distribution of robust z-scores for in-coming link counts\")\n",
    "plt.show()"
   ]
  },
  {
   "cell_type": "code",
   "execution_count": null,
   "metadata": {},
   "outputs": [],
   "source": [
    "## check z-score distribution\n",
    "import matplotlib.pyplot as plt\n",
    "plt.hist(M.target_zscores, bins = 20)\n",
    "plt.title(f\"Distribution of (unused) z-scores for in-coming link counts\")\n",
    "plt.show()"
   ]
  },
  {
   "cell_type": "code",
   "execution_count": null,
   "metadata": {},
   "outputs": [],
   "source": [
    "## select z-score base\n",
    "if zscores_from_targets:\n",
    "    Link_bases = M.source_zscores\n",
    "else:\n",
    "    Link_bases = M.target_zscores\n",
    "## check result\n",
    "i = 0\n",
    "for key, value in Link_bases.items():\n",
    "    i += 1\n",
    "    print(f\"node {i:3d} {key} has z-score: {value: .4f}\")"
   ]
  },
  {
   "cell_type": "code",
   "execution_count": null,
   "metadata": {},
   "outputs": [],
   "source": [
    "## draw a pruned diagram from the merged lattice\n",
    "graph_layouts = [   'Multi_partite', # 0\n",
    "                    'Graphviz', # 1\n",
    "                    'ARF', # 2\n",
    "                    'Fruchterman_Reingold', # 3\n",
    "                    'Kamada_Kawai', # 4\n",
    "                    'Spring', # 5\n",
    "                    'Shell', # 6\n",
    "                    'Spectral', # 7\n",
    "                    'Circular', # 8\n",
    "                    'Planar' # 9 # often fails\n",
    "                 ]\n",
    "##\n",
    "layout             = graph_layouts[0]\n",
    "scale_factor       = 3\n",
    "zscore_lowerbound  = -0.5\n",
    "\n",
    "manually_set = True\n",
    "if manually_set:\n",
    "   M.draw_lattice (layout, MPG_key, save_lattice = False, draw_inline = True, generality = generality, auto_fig_sizing = False, fig_size = (10, 15), label_sample_n = 4, label_size = 16, node_size = 52, font_name = multibyte_font_name, zscore_lowerbound = zscore_lowerbound, scale_factor = scale_factor, check = False)\n",
    "else:\n",
    "   M.draw_lattice (layout, MPG_key, save_lattice = False, draw_inline = True, generality = generality, auto_fig_sizing = True, label_sample_n = 4, zscore_lowerbound = zscore_lowerbound, scale_factor = scale_factor, font_name = multibyte_font_name, check = False)"
   ]
  },
  {
   "cell_type": "code",
   "execution_count": null,
   "metadata": {},
   "outputs": [],
   "source": [
    "## draw a full diagram from the merged lattice\n",
    "if draw_full_version_for_merged:\n",
    "    layout = graph_layouts[0]\n",
    "    zscore_lowerbound  = None\n",
    "    scale_factor       = 3\n",
    "    ##\n",
    "    adjusted = False\n",
    "    if adjusted:\n",
    "        M.draw_lattice (layout, MPG_key, save_lattice = False, draw_inline = True, zscore_lowerbound = zscore_lowerbound,\n",
    "        scale_factor = scale_factor, fig_size = (24, 60), label_size = 12, node_size = 33, font_name = multibyte_font_name, check = False)\n",
    "    else:\n",
    "        M.draw_lattice (layout, MPG_key, save_lattice = False, draw_inline = True, zscore_lowerbound = zscore_lowerbound, scale_factor = scale_factor, font_name = multibyte_font_name, check = False)"
   ]
  }
 ],
 "metadata": {
  "kernelspec": {
   "display_name": "base",
   "language": "python",
   "name": "python3"
  },
  "language_info": {
   "codemirror_mode": {
    "name": "ipython",
    "version": 3
   },
   "file_extension": ".py",
   "mimetype": "text/x-python",
   "name": "python",
   "nbconvert_exporter": "python",
   "pygments_lexer": "ipython3",
   "version": "3.11.11"
  }
 },
 "nbformat": 4,
 "nbformat_minor": 4
}
